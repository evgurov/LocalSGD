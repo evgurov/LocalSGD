{
 "cells": [
  {
   "cell_type": "code",
   "execution_count": 5,
   "metadata": {},
   "outputs": [],
   "source": [
    "import os\n",
    "\n",
    "import torch\n",
    "from torch.nn.functional import binary_cross_entropy_with_logits\n",
    "from torch.utils.data import Subset\n",
    "\n",
    "from local_sgd import LocalSGD\n",
    "from minibatch_sgd import MinibatchSGD\n",
    "from synthetic_dataset import create_dummy_dataset\n",
    "from models import LinearModel\n",
    "from lr_gridsearch import lr_gridsearch\n",
    "\n",
    "# Set seed manually for reproducibility\n",
    "torch.manual_seed(42)\n",
    "\n",
    "# WandB constants\n",
    "# -----------------------------------------------------------------------------\n",
    "os.environ[\"WANDB_ENTITY\"] = \"RADFAN\"\n",
    "os.environ[\"WANDB_PROJECT\"] = \"LocalSGD\""
   ]
  },
  {
   "cell_type": "code",
   "execution_count": 6,
   "metadata": {},
   "outputs": [],
   "source": [
    "dataset = create_dummy_dataset(\n",
    "    num_samples=50000,\n",
    "    num_features=25\n",
    ")\n",
    "model = LinearModel(input_size=25, bias=True)\n",
    "loss_fn = binary_cross_entropy_with_logits"
   ]
  },
  {
   "cell_type": "code",
   "execution_count": 7,
   "metadata": {},
   "outputs": [],
   "source": [
    "NUM_WORKERS = [5]\n",
    "K = [40]\n",
    "NUM_EPOCHS = [1]\n",
    "NUM_SAMPLES_TO_CHOOSE = [20000]\n",
    "\n",
    "LR_GRID_LSGD = [1e-1, 5e-2, 1e-2]\n",
    "LR_GRID_MSGD = [1e-0, 5e-1, 1e-1, 5e-2]"
   ]
  },
  {
   "cell_type": "code",
   "execution_count": null,
   "metadata": {},
   "outputs": [],
   "source": [
    "for num_workers, k, num_epochs, num_samples in zip(\n",
    "    NUM_WORKERS, K, NUM_EPOCHS, NUM_SAMPLES_TO_CHOOSE\n",
    "):\n",
    "    lr_gridsearch(\n",
    "        algorithm=LocalSGD,\n",
    "        model=model,\n",
    "        dataset=Subset(dataset, indices=range(num_samples)),\n",
    "        loss_fn=loss_fn,\n",
    "        num_workers=num_workers,\n",
    "        K=k,\n",
    "        num_epochs=num_epochs,\n",
    "        lr_grid=LR_GRID_LSGD\n",
    "    )\n",
    "    \n",
    "    lr_gridsearch(\n",
    "        algorithm=MinibatchSGD,\n",
    "        model=model,\n",
    "        dataset=Subset(dataset, indices=range(num_samples)),\n",
    "        loss_fn=loss_fn,\n",
    "        num_workers=num_workers,\n",
    "        K=k,\n",
    "        num_epochs=num_epochs,\n",
    "        lr_grid=LR_GRID_MSGD\n",
    "    )"
   ]
  }
 ],
 "metadata": {
  "kernelspec": {
   "display_name": ".lsgd-venv",
   "language": "python",
   "name": "python3"
  },
  "language_info": {
   "codemirror_mode": {
    "name": "ipython",
    "version": 3
   },
   "file_extension": ".py",
   "mimetype": "text/x-python",
   "name": "python",
   "nbconvert_exporter": "python",
   "pygments_lexer": "ipython3",
   "version": "3.10.12"
  }
 },
 "nbformat": 4,
 "nbformat_minor": 2
}
