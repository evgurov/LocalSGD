{
 "cells": [
  {
   "cell_type": "code",
   "execution_count": 1,
   "metadata": {},
   "outputs": [],
   "source": [
    "import os\n",
    "\n",
    "import torch\n",
    "from torch.nn.functional import cross_entropy\n",
    "from torch.utils.data import Subset\n",
    "from torchvision.datasets import MNIST\n",
    "from torchvision import transforms\n",
    "\n",
    "from local_sgd import LocalSGD\n",
    "from minibatch_sgd import MinibatchSGD\n",
    "from models import SimpleFFN\n",
    "from lr_gridsearch import lr_gridsearch\n",
    "\n",
    "# Set seed manually for reproducibility\n",
    "torch.manual_seed(42)\n",
    "\n",
    "# WandB constants\n",
    "# -----------------------------------------------------------------------------\n",
    "os.environ[\"WANDB_ENTITY\"] = \"RADFAN\"\n",
    "os.environ[\"WANDB_PROJECT\"] = \"LocalSGD\""
   ]
  },
  {
   "cell_type": "code",
   "execution_count": 2,
   "metadata": {},
   "outputs": [],
   "source": [
    "transform = transforms.Compose([\n",
    "    transforms.ToTensor(),\n",
    "    transforms.Normalize((0.5,), (0.5,)),\n",
    "])\n",
    "\n",
    "dataset = MNIST(\n",
    "    root='./mnist',\n",
    "    train=True,\n",
    "    transform=transform,\n",
    "    download=True,\n",
    ")\n",
    "model = SimpleFFN(input_size=28*28, hidden_size=100, output_size=10)\n",
    "loss_fn = cross_entropy"
   ]
  },
  {
   "cell_type": "code",
   "execution_count": 3,
   "metadata": {},
   "outputs": [],
   "source": [
    "NUM_WORKERS = [5]\n",
    "K = [20]\n",
    "NUM_EPOCHS = [1]\n",
    "NUM_SAMPLES_TO_CHOOSE = [10000]\n",
    "\n",
    "LR_GRID_LSGD = [1e-1, 1e-2, 1e-3]\n",
    "LR_GRID_MSGD = [1e-0, 1e-1, 1e-2]"
   ]
  },
  {
   "cell_type": "code",
   "execution_count": null,
   "metadata": {},
   "outputs": [],
   "source": [
    "for num_workers, k, num_epochs, num_samples in zip(\n",
    "    NUM_WORKERS, K, NUM_EPOCHS, NUM_SAMPLES_TO_CHOOSE\n",
    "):\n",
    "    lr_gridsearch(\n",
    "        algorithm=LocalSGD,\n",
    "        model=model,\n",
    "        dataset=Subset(dataset, indices=range(num_samples)),\n",
    "        loss_fn=loss_fn,\n",
    "        num_workers=num_workers,\n",
    "        K=k,\n",
    "        num_epochs=num_epochs,\n",
    "        lr_grid=LR_GRID_LSGD,\n",
    "    )\n",
    "    \n",
    "    lr_gridsearch(\n",
    "        algorithm=MinibatchSGD,\n",
    "        model=model,\n",
    "        dataset=Subset(dataset, indices=range(num_samples)),\n",
    "        loss_fn=loss_fn,\n",
    "        num_workers=num_workers,\n",
    "        K=k,\n",
    "        num_epochs=num_epochs,\n",
    "        lr_grid=LR_GRID_MSGD,\n",
    "    )"
   ]
  }
 ],
 "metadata": {
  "kernelspec": {
   "display_name": ".lsgd-venv",
   "language": "python",
   "name": "python3"
  },
  "language_info": {
   "codemirror_mode": {
    "name": "ipython",
    "version": 3
   },
   "file_extension": ".py",
   "mimetype": "text/x-python",
   "name": "python",
   "nbconvert_exporter": "python",
   "pygments_lexer": "ipython3",
   "version": "3.10.12"
  }
 },
 "nbformat": 4,
 "nbformat_minor": 2
}
